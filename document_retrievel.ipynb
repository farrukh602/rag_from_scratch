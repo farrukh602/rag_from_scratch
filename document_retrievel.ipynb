{
 "cells": [
  {
   "cell_type": "markdown",
   "id": "d75a3efa",
   "metadata": {},
   "source": [
    "#### Basic Workflow of retrivel part of `RAG`\n",
    "`ingest documents -> split into chunks -> embed chunks -> make a query -> embed the query -> compare query embedding to chunk embeddings`"
   ]
  },
  {
   "cell_type": "code",
   "execution_count": 2,
   "metadata": {},
   "outputs": [],
   "source": [
    "import random\n",
    "import numpy as np\n",
    "import pandas as pd\n",
    "import torch\n",
    "device = \"cuda\" if torch.cuda.is_available() else \"cpu\""
   ]
  },
  {
   "cell_type": "code",
   "execution_count": 36,
   "id": "e29923ef",
   "metadata": {},
   "outputs": [
    {
     "data": {
      "text/plain": [
       "torch.Size([1670, 768])"
      ]
     },
     "execution_count": 36,
     "metadata": {},
     "output_type": "execute_result"
    }
   ],
   "source": [
    "# import text_chunks_and_embeddings file\n",
    "text_chunks_and_embedding_df=pd.read_csv(r\".\\data\\text_chunks_and_embeddings.csv\")\n",
    "\n",
    "# converting embedding column back to np.array([])\n",
    "text_chunks_and_embedding_df[\"embedding\"] = text_chunks_and_embedding_df[\"embedding\"].apply(lambda x: np.fromstring(x.strip(\"[]\"), sep=\" \"))\n",
    "# converting to dictionaries\n",
    "pages_and_chunks=text_chunks_and_embedding_df.to_dict(orient=\"records\")\n",
    "# converting embeedint to torch tensor with float32 datatype\n",
    "embeddings=torch.tensor(text_chunks_and_embedding_df[\"embedding\"].tolist(),dtype=torch.float32)\n",
    "embeddings.shape"
   ]
  },
  {
   "cell_type": "markdown",
   "id": "c503e4ce",
   "metadata": {},
   "source": [
    "Now that we have embeddings for our data, now is time to instantiate a model for the \"query\" embeddings which would we use to find the documents/sentences in our data/corpus similar to query"
   ]
  },
  {
   "cell_type": "code",
   "execution_count": 39,
   "id": "8ac7bdd2",
   "metadata": {},
   "outputs": [],
   "source": [
    "from sentence_transformers import util, SentenceTransformer\n",
    "embedding_model=SentenceTransformer(model_name_or_path=\"all-mpnet-base-v2\",\n",
    "                                    device=device)"
   ]
  },
  {
   "cell_type": "code",
   "execution_count": 1,
   "id": "3de8c4d5",
   "metadata": {},
   "outputs": [
    {
     "ename": "NameError",
     "evalue": "name 'embedding_model' is not defined",
     "output_type": "error",
     "traceback": [
      "\u001b[1;31m---------------------------------------------------------------------------\u001b[0m",
      "\u001b[1;31mNameError\u001b[0m                                 Traceback (most recent call last)",
      "Cell \u001b[1;32mIn[1], line 4\u001b[0m\n\u001b[0;32m      1\u001b[0m \u001b[38;5;66;03m# Cosine Similarity\u001b[39;00m\n\u001b[0;32m      3\u001b[0m query \u001b[38;5;241m=\u001b[39m \u001b[38;5;124m\"\u001b[39m\u001b[38;5;124mWhat is the importance of a healthy diet\u001b[39m\u001b[38;5;124m\"\u001b[39m\n\u001b[1;32m----> 4\u001b[0m query_embedding\u001b[38;5;241m=\u001b[39membedding_model\u001b[38;5;241m.\u001b[39mencode(query,convert_to_tensor\u001b[38;5;241m=\u001b[39m\u001b[38;5;28;01mTrue\u001b[39;00m )\n\u001b[0;32m      5\u001b[0m \u001b[38;5;66;03m#similarity search based on cosine similarity\u001b[39;00m\n\u001b[0;32m      6\u001b[0m cos_sim_scores\u001b[38;5;241m=\u001b[39mutil\u001b[38;5;241m.\u001b[39mcos_sim(a\u001b[38;5;241m=\u001b[39mquery_embedding,b\u001b[38;5;241m=\u001b[39membeddings)\n",
      "\u001b[1;31mNameError\u001b[0m: name 'embedding_model' is not defined"
     ]
    }
   ],
   "source": [
    "# Cosine Similarity\n",
    "\n",
    "query = \"What is the importance of a healthy diet\"\n",
    "query_embedding=embedding_model.encode(query,convert_to_tensor=True )\n",
    "#similarity search based on cosine similarity\n",
    "cos_sim_scores=util.cos_sim(a=query_embedding,b=embeddings)\n",
    "# score_indices=torch.argsort(cos_sim_scores,keepdim=True)\n",
    "\n",
    "# top k scores\n",
    "topK=torch.topk(cos_sim_scores,k=4)\n",
    "\n"
   ]
  },
  {
   "cell_type": "code",
   "execution_count": 83,
   "id": "793f2e05",
   "metadata": {},
   "outputs": [
    {
     "name": "stdout",
     "output_type": "stream",
     "text": [
      "Score:  0.6641526222229004\n",
      "Achieving a Healthy Diet UNIVERSITY OF HAWAI‘I AT MĀNOA FOOD SCIENCE AND HUMAN\n",
      "NUTRITION PROGRAM AND HUMAN NUTRITION PROGRAM Achieving a healthy diet is a\n",
      "matter of balancing the quality and quantity of food that is eaten. There are\n",
      "five key factors that make up a healthful diet: 1. A diet must be adequate, by\n",
      "providing sufficient amounts of each essential nutrient, as well as fiber and\n",
      "adequate calories.2. A balanced diet results when you do not consume one\n",
      "nutrient at the expense of another, but rather get appropriate amounts of all\n",
      "nutrients.3. Calorie control is necessary so that the amount of energy you get\n",
      "from the nutrients you consume equals the amount of energy you expend during\n",
      "your day’s activities.4. Moderation means not eating to the extremes, neither\n",
      "too much nor too little.5.\n",
      "\n",
      "Score:  0.6617240905761719\n",
      "Variety refers to consuming different foods from within each of the food groups\n",
      "on a regular basis. A healthy diet is one that favors whole foods. As an\n",
      "alternative to modern processed foods, a healthy diet focuses on “real” fresh\n",
      "whole foods that have been sustaining people for generations. Whole foods supply\n",
      "the needed vitamins, minerals, protein, carbohydrates, fats, and fiber that are\n",
      "essential to good health. Commercially prepared and fast foods are often lacking\n",
      "nutrients and often contain inordinate amounts of sugar, salt, saturated and\n",
      "trans fats, all of which are associated with the development of diseases such as\n",
      "atherosclerosis, heart disease, stroke, cancer, obesity, diabetes, and other\n",
      "illnesses. A balanced diet is a mix of food from the different food groups\n",
      "(vegetables, legumes, fruits, grains, protein foods, and dairy).30 | Achieving a\n",
      "Healthy Diet\n",
      "\n",
      "Score:  0.634554386138916\n",
      "One of the major drawbacks of a monotonous diet is the risk of consuming too\n",
      "much of some nutrients and not enough of others. Trying new foods can also be a\n",
      "source of pleasure—you never know what foods you might like until you try them.\n",
      "Developing a healthful diet can be rewarding, but be mindful that all of the\n",
      "principles presented must be followed to derive maximal health benefits. For\n",
      "instance, introducing variety in your diet can still result in the consumption\n",
      "of too many high-calorie, nutrient poor foods and inadequate nutrient intake if\n",
      "you do not also employ moderation and calorie control. Using all of these\n",
      "principles together will promote lasting health benefits.32 | Achieving a\n",
      "Healthy Diet\n",
      "\n",
      "Score:  0.6337572932243347\n",
      "live longer and healthier. Conversely, poor nutrition and a lack of exercise can\n",
      "shorten your life and lead to medical problems. The right foods provide numerous\n",
      "benefits at every stage of life. They help an infant grow, an adolescent develop\n",
      "mentally and physically, a young adult achieve his or her physical peak, and an\n",
      "older adult cope with aging. Nutritious foods form the foundation of a healthy\n",
      "life at every age. Developing Habits Eating habits develop early in life. They\n",
      "are typically formed within the first few years and it is believed that they\n",
      "persist for years, if not for life. So it is important for parents and other\n",
      "caregivers to help children establish healthy habits and avoid problematic ones.\n",
      "Children begin expressing their preferences at an early age. Parents must find a\n",
      "balance between providing a child with an opportunity for self-expression,\n",
      "helping a child develop healthy habits, and making sure that a child meets all\n",
      "of their nutritional needs.\n",
      "\n"
     ]
    }
   ],
   "source": [
    "# Define helper function to print wrapped text \n",
    "import textwrap\n",
    "\n",
    "def print_wrapped(text, wrap_length=80):\n",
    "    wrapped_text = textwrap.fill(text, wrap_length)\n",
    "    print(wrapped_text)\n",
    "\n",
    "# Top k retrievals\n",
    "s=0\n",
    "for idx in topK.indices[-1]:\n",
    "    print(\"Score: \", topK.values[0][s].item())\n",
    "    s+=1\n",
    "    print_wrapped(text_chunks_and_embedding_df[\"sentence_chunk\"][idx.item()])\n",
    "    print()\n"
   ]
  },
  {
   "cell_type": "code",
   "execution_count": 2,
   "id": "9e7f2e90",
   "metadata": {},
   "outputs": [
    {
     "ename": "AssertionError",
     "evalue": "Torch not compiled with CUDA enabled",
     "output_type": "error",
     "traceback": [
      "\u001b[1;31m---------------------------------------------------------------------------\u001b[0m",
      "\u001b[1;31mAssertionError\u001b[0m                            Traceback (most recent call last)",
      "Cell \u001b[1;32mIn[2], line 2\u001b[0m\n\u001b[0;32m      1\u001b[0m \u001b[38;5;28;01mimport\u001b[39;00m \u001b[38;5;21;01mtorch\u001b[39;00m\n\u001b[1;32m----> 2\u001b[0m gpu_memory_bytes \u001b[38;5;241m=\u001b[39m torch\u001b[38;5;241m.\u001b[39mcuda\u001b[38;5;241m.\u001b[39mget_device_properties(\u001b[38;5;241m0\u001b[39m)\u001b[38;5;241m.\u001b[39mtotal_memory\n\u001b[0;32m      3\u001b[0m gpu_memory_gb \u001b[38;5;241m=\u001b[39m \u001b[38;5;28mround\u001b[39m(gpu_memory_bytes \u001b[38;5;241m/\u001b[39m (\u001b[38;5;241m2\u001b[39m\u001b[38;5;241m*\u001b[39m\u001b[38;5;241m*\u001b[39m\u001b[38;5;241m30\u001b[39m))\n\u001b[0;32m      4\u001b[0m \u001b[38;5;28mprint\u001b[39m(\u001b[38;5;124mf\u001b[39m\u001b[38;5;124m\"\u001b[39m\u001b[38;5;124mAvailable GPU memory: \u001b[39m\u001b[38;5;132;01m{\u001b[39;00mgpu_memory_gb\u001b[38;5;132;01m}\u001b[39;00m\u001b[38;5;124m GB\u001b[39m\u001b[38;5;124m\"\u001b[39m)\n",
      "File \u001b[1;32mc:\\ProgramData\\anaconda3\\Lib\\site-packages\\torch\\cuda\\__init__.py:465\u001b[0m, in \u001b[0;36mget_device_properties\u001b[1;34m(device)\u001b[0m\n\u001b[0;32m    455\u001b[0m \u001b[38;5;28;01mdef\u001b[39;00m \u001b[38;5;21mget_device_properties\u001b[39m(device: _device_t) \u001b[38;5;241m-\u001b[39m\u001b[38;5;241m>\u001b[39m _CudaDeviceProperties:\n\u001b[0;32m    456\u001b[0m \u001b[38;5;250m    \u001b[39m\u001b[38;5;124mr\u001b[39m\u001b[38;5;124;03m\"\"\"Get the properties of a device.\u001b[39;00m\n\u001b[0;32m    457\u001b[0m \n\u001b[0;32m    458\u001b[0m \u001b[38;5;124;03m    Args:\u001b[39;00m\n\u001b[1;32m   (...)\u001b[0m\n\u001b[0;32m    463\u001b[0m \u001b[38;5;124;03m        _CudaDeviceProperties: the properties of the device\u001b[39;00m\n\u001b[0;32m    464\u001b[0m \u001b[38;5;124;03m    \"\"\"\u001b[39;00m\n\u001b[1;32m--> 465\u001b[0m     _lazy_init()  \u001b[38;5;66;03m# will define _get_device_properties\u001b[39;00m\n\u001b[0;32m    466\u001b[0m     device \u001b[38;5;241m=\u001b[39m _get_device_index(device, optional\u001b[38;5;241m=\u001b[39m\u001b[38;5;28;01mTrue\u001b[39;00m)\n\u001b[0;32m    467\u001b[0m     \u001b[38;5;28;01mif\u001b[39;00m device \u001b[38;5;241m<\u001b[39m \u001b[38;5;241m0\u001b[39m \u001b[38;5;129;01mor\u001b[39;00m device \u001b[38;5;241m>\u001b[39m\u001b[38;5;241m=\u001b[39m device_count():\n",
      "File \u001b[1;32mc:\\ProgramData\\anaconda3\\Lib\\site-packages\\torch\\cuda\\__init__.py:305\u001b[0m, in \u001b[0;36m_lazy_init\u001b[1;34m()\u001b[0m\n\u001b[0;32m    300\u001b[0m     \u001b[38;5;28;01mraise\u001b[39;00m \u001b[38;5;167;01mRuntimeError\u001b[39;00m(\n\u001b[0;32m    301\u001b[0m         \u001b[38;5;124m\"\u001b[39m\u001b[38;5;124mCannot re-initialize CUDA in forked subprocess. To use CUDA with \u001b[39m\u001b[38;5;124m\"\u001b[39m\n\u001b[0;32m    302\u001b[0m         \u001b[38;5;124m\"\u001b[39m\u001b[38;5;124mmultiprocessing, you must use the \u001b[39m\u001b[38;5;124m'\u001b[39m\u001b[38;5;124mspawn\u001b[39m\u001b[38;5;124m'\u001b[39m\u001b[38;5;124m start method\u001b[39m\u001b[38;5;124m\"\u001b[39m\n\u001b[0;32m    303\u001b[0m     )\n\u001b[0;32m    304\u001b[0m \u001b[38;5;28;01mif\u001b[39;00m \u001b[38;5;129;01mnot\u001b[39;00m \u001b[38;5;28mhasattr\u001b[39m(torch\u001b[38;5;241m.\u001b[39m_C, \u001b[38;5;124m\"\u001b[39m\u001b[38;5;124m_cuda_getDeviceCount\u001b[39m\u001b[38;5;124m\"\u001b[39m):\n\u001b[1;32m--> 305\u001b[0m     \u001b[38;5;28;01mraise\u001b[39;00m \u001b[38;5;167;01mAssertionError\u001b[39;00m(\u001b[38;5;124m\"\u001b[39m\u001b[38;5;124mTorch not compiled with CUDA enabled\u001b[39m\u001b[38;5;124m\"\u001b[39m)\n\u001b[0;32m    306\u001b[0m \u001b[38;5;28;01mif\u001b[39;00m _cudart \u001b[38;5;129;01mis\u001b[39;00m \u001b[38;5;28;01mNone\u001b[39;00m:\n\u001b[0;32m    307\u001b[0m     \u001b[38;5;28;01mraise\u001b[39;00m \u001b[38;5;167;01mAssertionError\u001b[39;00m(\n\u001b[0;32m    308\u001b[0m         \u001b[38;5;124m\"\u001b[39m\u001b[38;5;124mlibcudart functions unavailable. It looks like you have a broken build?\u001b[39m\u001b[38;5;124m\"\u001b[39m\n\u001b[0;32m    309\u001b[0m     )\n",
      "\u001b[1;31mAssertionError\u001b[0m: Torch not compiled with CUDA enabled"
     ]
    }
   ],
   "source": [
    "import torch\n",
    "gpu_memory_bytes = torch.cuda.get_device_properties(0).total_memory\n",
    "gpu_memory_gb = round(gpu_memory_bytes / (2**30))\n",
    "print(f\"Available GPU memory: {gpu_memory_gb} GB\")"
   ]
  },
  {
   "cell_type": "code",
   "execution_count": null,
   "id": "4e55fc61",
   "metadata": {},
   "outputs": [],
   "source": []
  }
 ],
 "metadata": {
  "kernelspec": {
   "display_name": "base",
   "language": "python",
   "name": "python3"
  },
  "language_info": {
   "codemirror_mode": {
    "name": "ipython",
    "version": 3
   },
   "file_extension": ".py",
   "mimetype": "text/x-python",
   "name": "python",
   "nbconvert_exporter": "python",
   "pygments_lexer": "ipython3",
   "version": "3.12.4"
  }
 },
 "nbformat": 4,
 "nbformat_minor": 5
}
