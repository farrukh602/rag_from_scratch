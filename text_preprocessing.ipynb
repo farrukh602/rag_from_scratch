{
 "cells": [
  {
   "cell_type": "code",
   "execution_count": 1,
   "id": "c69a2a2e-1071-46d8-9eaf-955cc69eeb24",
   "metadata": {},
   "outputs": [],
   "source": [
    "import fitz\n",
    "import numpy as np\n",
    "import matplotlib.pyplot as plt\n",
    "from tqdm.auto import tqdm"
   ]
  },
  {
   "cell_type": "code",
   "execution_count": 2,
   "id": "b35c5f54-d557-4ba4-a8ac-18b016b10e3a",
   "metadata": {
    "scrolled": true
   },
   "outputs": [],
   "source": [
    "pdf_path=\"data/nutrition_book.pdf\"\n",
    "doc = fitz.open(pdf_path)"
   ]
  },
  {
   "cell_type": "code",
   "execution_count": 3,
   "id": "7a1de118-24fa-4308-9933-23774d2f171c",
   "metadata": {},
   "outputs": [],
   "source": [
    "def text_formatter(text: str):\n",
    "    cleaned_text = text.replace(\"\\n\", \" \")\n",
    "    return cleaned_text\n",
    "\n",
    "def open_and_read_pdf(doc):\n",
    "    pages_and_texts = []\n",
    "    for page_number, page in tqdm(enumerate(doc)):\n",
    "        text = page.get_text()\n",
    "        text = text_formatter(text)\n",
    "        meta_text = {\n",
    "            \"page_number\": page_number-41,  # Since actual content starts at page number 42\n",
    "            \"page_char_count\": len(text),\n",
    "            \"page_word_count\": len(text.split(\" \")),\n",
    "            \"page_sentence_count_raw\": len(text.split(\". \")),\n",
    "            \"page_token_count\": len(text)/4, # 1 token equals nearly 4 characters\n",
    "            \"text\": text\n",
    "        }\n",
    "        pages_and_texts.append(meta_text)\n",
    "    return pages_and_texts\n"
   ]
  },
  {
   "cell_type": "markdown",
   "id": "568f9768-a0d5-4d55-b397-3151083d4123",
   "metadata": {
    "jp-MarkdownHeadingCollapsed": true
   },
   "source": [
    "## EDA on Text"
   ]
  },
  {
   "cell_type": "code",
   "execution_count": 4,
   "id": "fd64214f-a269-4f73-a042-39c16a780451",
   "metadata": {},
   "outputs": [],
   "source": [
    "import pandas as pd"
   ]
  },
  {
   "cell_type": "code",
   "execution_count": 5,
   "id": "98dd1473-0463-4b83-8d0f-9d947d831a1a",
   "metadata": {},
   "outputs": [
    {
     "data": {
      "application/vnd.jupyter.widget-view+json": {
       "model_id": "eb9d5f02f0094ef388dae14f3fb16de0",
       "version_major": 2,
       "version_minor": 0
      },
      "text/plain": [
       "0it [00:00, ?it/s]"
      ]
     },
     "metadata": {},
     "output_type": "display_data"
    },
    {
     "data": {
      "text/html": [
       "<div>\n",
       "<style scoped>\n",
       "    .dataframe tbody tr th:only-of-type {\n",
       "        vertical-align: middle;\n",
       "    }\n",
       "\n",
       "    .dataframe tbody tr th {\n",
       "        vertical-align: top;\n",
       "    }\n",
       "\n",
       "    .dataframe thead th {\n",
       "        text-align: right;\n",
       "    }\n",
       "</style>\n",
       "<table border=\"1\" class=\"dataframe\">\n",
       "  <thead>\n",
       "    <tr style=\"text-align: right;\">\n",
       "      <th></th>\n",
       "      <th>page_number</th>\n",
       "      <th>page_char_count</th>\n",
       "      <th>page_word_count</th>\n",
       "      <th>page_sentence_count_raw</th>\n",
       "      <th>page_token_count</th>\n",
       "      <th>text</th>\n",
       "    </tr>\n",
       "  </thead>\n",
       "  <tbody>\n",
       "    <tr>\n",
       "      <th>0</th>\n",
       "      <td>-41</td>\n",
       "      <td>31</td>\n",
       "      <td>6</td>\n",
       "      <td>1</td>\n",
       "      <td>7.75</td>\n",
       "      <td>Human Nutrition: 2020 Edition</td>\n",
       "    </tr>\n",
       "    <tr>\n",
       "      <th>1</th>\n",
       "      <td>-40</td>\n",
       "      <td>0</td>\n",
       "      <td>1</td>\n",
       "      <td>1</td>\n",
       "      <td>0.00</td>\n",
       "      <td></td>\n",
       "    </tr>\n",
       "    <tr>\n",
       "      <th>2</th>\n",
       "      <td>-39</td>\n",
       "      <td>322</td>\n",
       "      <td>56</td>\n",
       "      <td>1</td>\n",
       "      <td>80.50</td>\n",
       "      <td>Human Nutrition: 2020  Edition  UNIVERSITY OF ...</td>\n",
       "    </tr>\n",
       "    <tr>\n",
       "      <th>3</th>\n",
       "      <td>-38</td>\n",
       "      <td>214</td>\n",
       "      <td>34</td>\n",
       "      <td>2</td>\n",
       "      <td>53.50</td>\n",
       "      <td>Human Nutrition: 2020 Edition by University of...</td>\n",
       "    </tr>\n",
       "    <tr>\n",
       "      <th>4</th>\n",
       "      <td>-37</td>\n",
       "      <td>799</td>\n",
       "      <td>147</td>\n",
       "      <td>2</td>\n",
       "      <td>199.75</td>\n",
       "      <td>Contents  Preface  University of Hawai‘i at Mā...</td>\n",
       "    </tr>\n",
       "    <tr>\n",
       "      <th>...</th>\n",
       "      <td>...</td>\n",
       "      <td>...</td>\n",
       "      <td>...</td>\n",
       "      <td>...</td>\n",
       "      <td>...</td>\n",
       "      <td>...</td>\n",
       "    </tr>\n",
       "    <tr>\n",
       "      <th>1203</th>\n",
       "      <td>1162</td>\n",
       "      <td>1677</td>\n",
       "      <td>253</td>\n",
       "      <td>18</td>\n",
       "      <td>419.25</td>\n",
       "      <td>39. Exercise 10.2 &amp; 11.3 reused “Egg Oval Food...</td>\n",
       "    </tr>\n",
       "    <tr>\n",
       "      <th>1204</th>\n",
       "      <td>1163</td>\n",
       "      <td>1618</td>\n",
       "      <td>255</td>\n",
       "      <td>10</td>\n",
       "      <td>404.50</td>\n",
       "      <td>Images / Pixabay License; “Pumpkin Cartoon Ora...</td>\n",
       "    </tr>\n",
       "    <tr>\n",
       "      <th>1205</th>\n",
       "      <td>1164</td>\n",
       "      <td>1716</td>\n",
       "      <td>262</td>\n",
       "      <td>13</td>\n",
       "      <td>429.00</td>\n",
       "      <td>Flashcard Images  Note: Most images in the fla...</td>\n",
       "    </tr>\n",
       "    <tr>\n",
       "      <th>1206</th>\n",
       "      <td>1165</td>\n",
       "      <td>1734</td>\n",
       "      <td>269</td>\n",
       "      <td>13</td>\n",
       "      <td>433.50</td>\n",
       "      <td>ShareAlike  11. Organs reused “Pancreas Organ ...</td>\n",
       "    </tr>\n",
       "    <tr>\n",
       "      <th>1207</th>\n",
       "      <td>1166</td>\n",
       "      <td>258</td>\n",
       "      <td>45</td>\n",
       "      <td>3</td>\n",
       "      <td>64.50</td>\n",
       "      <td>23. Vitamin D reused “The Functions of Vitamin...</td>\n",
       "    </tr>\n",
       "  </tbody>\n",
       "</table>\n",
       "<p>1208 rows × 6 columns</p>\n",
       "</div>"
      ],
      "text/plain": [
       "      page_number  page_char_count  page_word_count  page_sentence_count_raw  \\\n",
       "0             -41               31                6                        1   \n",
       "1             -40                0                1                        1   \n",
       "2             -39              322               56                        1   \n",
       "3             -38              214               34                        2   \n",
       "4             -37              799              147                        2   \n",
       "...           ...              ...              ...                      ...   \n",
       "1203         1162             1677              253                       18   \n",
       "1204         1163             1618              255                       10   \n",
       "1205         1164             1716              262                       13   \n",
       "1206         1165             1734              269                       13   \n",
       "1207         1166              258               45                        3   \n",
       "\n",
       "      page_token_count                                               text  \n",
       "0                 7.75                    Human Nutrition: 2020 Edition    \n",
       "1                 0.00                                                     \n",
       "2                80.50  Human Nutrition: 2020  Edition  UNIVERSITY OF ...  \n",
       "3                53.50  Human Nutrition: 2020 Edition by University of...  \n",
       "4               199.75  Contents  Preface  University of Hawai‘i at Mā...  \n",
       "...                ...                                                ...  \n",
       "1203            419.25  39. Exercise 10.2 & 11.3 reused “Egg Oval Food...  \n",
       "1204            404.50  Images / Pixabay License; “Pumpkin Cartoon Ora...  \n",
       "1205            429.00  Flashcard Images  Note: Most images in the fla...  \n",
       "1206            433.50  ShareAlike  11. Organs reused “Pancreas Organ ...  \n",
       "1207             64.50  23. Vitamin D reused “The Functions of Vitamin...  \n",
       "\n",
       "[1208 rows x 6 columns]"
      ]
     },
     "execution_count": 5,
     "metadata": {},
     "output_type": "execute_result"
    }
   ],
   "source": [
    "pages_and_texts=open_and_read_pdf(doc)\n",
    "df = pd.DataFrame(pages_and_texts)\n",
    "df"
   ]
  },
  {
   "cell_type": "code",
   "execution_count": 115,
   "id": "8b2037f4-de09-436f-8fce-746ae0b88d22",
   "metadata": {},
   "outputs": [
    {
     "data": {
      "text/html": [
       "<div>\n",
       "<style scoped>\n",
       "    .dataframe tbody tr th:only-of-type {\n",
       "        vertical-align: middle;\n",
       "    }\n",
       "\n",
       "    .dataframe tbody tr th {\n",
       "        vertical-align: top;\n",
       "    }\n",
       "\n",
       "    .dataframe thead th {\n",
       "        text-align: right;\n",
       "    }\n",
       "</style>\n",
       "<table border=\"1\" class=\"dataframe\">\n",
       "  <thead>\n",
       "    <tr style=\"text-align: right;\">\n",
       "      <th></th>\n",
       "      <th>page_number</th>\n",
       "      <th>page_char_count</th>\n",
       "      <th>page_word_count</th>\n",
       "      <th>page_sentence_count_raw</th>\n",
       "      <th>page_token_count</th>\n",
       "    </tr>\n",
       "  </thead>\n",
       "  <tbody>\n",
       "    <tr>\n",
       "      <th>count</th>\n",
       "      <td>1208.00</td>\n",
       "      <td>1208.00</td>\n",
       "      <td>1208.00</td>\n",
       "      <td>1208.00</td>\n",
       "      <td>1208.00</td>\n",
       "    </tr>\n",
       "    <tr>\n",
       "      <th>mean</th>\n",
       "      <td>562.50</td>\n",
       "      <td>1149.01</td>\n",
       "      <td>200.51</td>\n",
       "      <td>10.52</td>\n",
       "      <td>287.25</td>\n",
       "    </tr>\n",
       "    <tr>\n",
       "      <th>std</th>\n",
       "      <td>348.86</td>\n",
       "      <td>560.41</td>\n",
       "      <td>95.86</td>\n",
       "      <td>6.55</td>\n",
       "      <td>140.10</td>\n",
       "    </tr>\n",
       "    <tr>\n",
       "      <th>min</th>\n",
       "      <td>-41.00</td>\n",
       "      <td>0.00</td>\n",
       "      <td>1.00</td>\n",
       "      <td>1.00</td>\n",
       "      <td>0.00</td>\n",
       "    </tr>\n",
       "    <tr>\n",
       "      <th>25%</th>\n",
       "      <td>260.75</td>\n",
       "      <td>763.00</td>\n",
       "      <td>135.00</td>\n",
       "      <td>5.00</td>\n",
       "      <td>190.75</td>\n",
       "    </tr>\n",
       "    <tr>\n",
       "      <th>50%</th>\n",
       "      <td>562.50</td>\n",
       "      <td>1232.50</td>\n",
       "      <td>217.00</td>\n",
       "      <td>10.00</td>\n",
       "      <td>308.12</td>\n",
       "    </tr>\n",
       "    <tr>\n",
       "      <th>75%</th>\n",
       "      <td>864.25</td>\n",
       "      <td>1604.50</td>\n",
       "      <td>273.00</td>\n",
       "      <td>15.00</td>\n",
       "      <td>401.12</td>\n",
       "    </tr>\n",
       "    <tr>\n",
       "      <th>max</th>\n",
       "      <td>1166.00</td>\n",
       "      <td>2309.00</td>\n",
       "      <td>431.00</td>\n",
       "      <td>39.00</td>\n",
       "      <td>577.25</td>\n",
       "    </tr>\n",
       "  </tbody>\n",
       "</table>\n",
       "</div>"
      ],
      "text/plain": [
       "       page_number  page_char_count  page_word_count  page_sentence_count_raw  \\\n",
       "count      1208.00          1208.00          1208.00                  1208.00   \n",
       "mean        562.50          1149.01           200.51                    10.52   \n",
       "std         348.86           560.41            95.86                     6.55   \n",
       "min         -41.00             0.00             1.00                     1.00   \n",
       "25%         260.75           763.00           135.00                     5.00   \n",
       "50%         562.50          1232.50           217.00                    10.00   \n",
       "75%         864.25          1604.50           273.00                    15.00   \n",
       "max        1166.00          2309.00           431.00                    39.00   \n",
       "\n",
       "       page_token_count  \n",
       "count           1208.00  \n",
       "mean             287.25  \n",
       "std              140.10  \n",
       "min                0.00  \n",
       "25%              190.75  \n",
       "50%              308.12  \n",
       "75%              401.12  \n",
       "max              577.25  "
      ]
     },
     "execution_count": 115,
     "metadata": {},
     "output_type": "execute_result"
    }
   ],
   "source": [
    "df.describe().round(2)"
   ]
  },
  {
   "cell_type": "markdown",
   "id": "bc7a6f45-62d1-4b4a-b872-56779cdf0d1d",
   "metadata": {},
   "source": [
    "## Spliting text into scentences"
   ]
  },
  {
   "cell_type": "code",
   "execution_count": 6,
   "id": "576197c5-8029-4a06-827e-993480042f4b",
   "metadata": {},
   "outputs": [
    {
     "name": "stderr",
     "output_type": "stream",
     "text": [
      "[nltk_data] Downloading package punkt to\n",
      "[nltk_data]     C:\\Users\\Pakistan\\AppData\\Roaming\\nltk_data...\n",
      "[nltk_data]   Package punkt is already up-to-date!\n"
     ]
    },
    {
     "data": {
      "text/plain": [
       "True"
      ]
     },
     "execution_count": 6,
     "metadata": {},
     "output_type": "execute_result"
    }
   ],
   "source": [
    "import nltk\n",
    "from nltk.tokenize import sent_tokenize\n",
    "nltk.download('punkt')"
   ]
  },
  {
   "cell_type": "code",
   "execution_count": 7,
   "id": "5db1db3e-e90a-45d5-b412-c68af4f7b6d6",
   "metadata": {},
   "outputs": [
    {
     "data": {
      "application/vnd.jupyter.widget-view+json": {
       "model_id": "5f6caaa4705845b58d4df2a2dcc84aa2",
       "version_major": 2,
       "version_minor": 0
      },
      "text/plain": [
       "  0%|          | 0/1208 [00:00<?, ?it/s]"
      ]
     },
     "metadata": {},
     "output_type": "display_data"
    }
   ],
   "source": [
    "for item in tqdm(pages_and_texts):\n",
    "    item['sentences']=sent_tokenize(item['text'])\n",
    "    # to make sure all the sentences are in string type\n",
    "    item['sentences'] = [str(sentence) for sentence in item['sentences']]\n",
    "    # count the sentences\n",
    "    item['page_sentence_count_nltk'] = len(item['sentences'])"
   ]
  },
  {
   "cell_type": "code",
   "execution_count": 11,
   "id": "21d958fb-5900-4589-a14a-ee47ea27eab9",
   "metadata": {},
   "outputs": [
    {
     "data": {
      "text/plain": [
       "[{'page_number': 21,\n",
       "  'page_char_count': 964,\n",
       "  'page_word_count': 171,\n",
       "  'page_sentence_count_raw': 8,\n",
       "  'page_token_count': 241.0,\n",
       "  'text': 'Image by  John Towner  on  unsplash.co m / CC0  Lifestyles and Nutrition  UNIVERSITY OF HAWAI‘I AT MĀNOA FOOD SCIENCE AND HUMAN  NUTRITION PROGRAM AND HUMAN NUTRITION PROGRAM  In addition to nutrition, health is affected by genetics, the  environment, life cycle, and lifestyle. One facet of lifestyle is your  dietary habits. Recall that we discussed briefly how\\xa0nutrition affects  health. A greater discussion of this will follow in subsequent  chapters in this book, as there is an enormous amount of  information regarding this aspect of lifestyle. Dietary habits include  what a person eats, how much a person eats during a meal, how  frequently meals are consumed, and how often a person eats out.  Other aspects of lifestyle include physical activity level, recreational  drug use, and sleeping patterns, all of which play a role in health and  impact nutrition. Following a healthy lifestyle improves your overall  health.  Lifestyles and Nutrition  |  21 ',\n",
       "  'sentences': ['Image by  John Towner  on  unsplash.co m / CC0  Lifestyles and Nutrition  UNIVERSITY OF HAWAI‘I AT MĀNOA FOOD SCIENCE AND HUMAN  NUTRITION PROGRAM AND HUMAN NUTRITION PROGRAM  In addition to nutrition, health is affected by genetics, the  environment, life cycle, and lifestyle.',\n",
       "   'One facet of lifestyle is your  dietary habits.',\n",
       "   'Recall that we discussed briefly how\\xa0nutrition affects  health.',\n",
       "   'A greater discussion of this will follow in subsequent  chapters in this book, as there is an enormous amount of  information regarding this aspect of lifestyle.',\n",
       "   'Dietary habits include  what a person eats, how much a person eats during a meal, how  frequently meals are consumed, and how often a person eats out.',\n",
       "   'Other aspects of lifestyle include physical activity level, recreational  drug use, and sleeping patterns, all of which play a role in health and  impact nutrition.',\n",
       "   'Following a healthy lifestyle improves your overall  health.',\n",
       "   'Lifestyles and Nutrition  |  21'],\n",
       "  'page_sentence_count_nltk': 8}]"
      ]
     },
     "execution_count": 11,
     "metadata": {},
     "output_type": "execute_result"
    }
   ],
   "source": [
    "import random\n",
    "random.sample(pages_and_texts,k=1)"
   ]
  },
  {
   "cell_type": "code",
   "execution_count": 8,
   "id": "b59d0731-0eff-4bde-9e14-2ab9799bc7d4",
   "metadata": {},
   "outputs": [
    {
     "data": {
      "text/html": [
       "<div>\n",
       "<style scoped>\n",
       "    .dataframe tbody tr th:only-of-type {\n",
       "        vertical-align: middle;\n",
       "    }\n",
       "\n",
       "    .dataframe tbody tr th {\n",
       "        vertical-align: top;\n",
       "    }\n",
       "\n",
       "    .dataframe thead th {\n",
       "        text-align: right;\n",
       "    }\n",
       "</style>\n",
       "<table border=\"1\" class=\"dataframe\">\n",
       "  <thead>\n",
       "    <tr style=\"text-align: right;\">\n",
       "      <th></th>\n",
       "      <th>page_number</th>\n",
       "      <th>page_char_count</th>\n",
       "      <th>page_word_count</th>\n",
       "      <th>page_sentence_count_raw</th>\n",
       "      <th>page_token_count</th>\n",
       "      <th>page_sentence_count_nltk</th>\n",
       "    </tr>\n",
       "  </thead>\n",
       "  <tbody>\n",
       "    <tr>\n",
       "      <th>count</th>\n",
       "      <td>1208.00</td>\n",
       "      <td>1208.00</td>\n",
       "      <td>1208.00</td>\n",
       "      <td>1208.00</td>\n",
       "      <td>1208.00</td>\n",
       "      <td>1208.00</td>\n",
       "    </tr>\n",
       "    <tr>\n",
       "      <th>mean</th>\n",
       "      <td>562.50</td>\n",
       "      <td>1149.60</td>\n",
       "      <td>199.89</td>\n",
       "      <td>9.97</td>\n",
       "      <td>287.40</td>\n",
       "      <td>10.28</td>\n",
       "    </tr>\n",
       "    <tr>\n",
       "      <th>std</th>\n",
       "      <td>348.86</td>\n",
       "      <td>560.47</td>\n",
       "      <td>95.78</td>\n",
       "      <td>6.19</td>\n",
       "      <td>140.12</td>\n",
       "      <td>6.27</td>\n",
       "    </tr>\n",
       "    <tr>\n",
       "      <th>min</th>\n",
       "      <td>-41.00</td>\n",
       "      <td>0.00</td>\n",
       "      <td>1.00</td>\n",
       "      <td>1.00</td>\n",
       "      <td>0.00</td>\n",
       "      <td>0.00</td>\n",
       "    </tr>\n",
       "    <tr>\n",
       "      <th>25%</th>\n",
       "      <td>260.75</td>\n",
       "      <td>763.75</td>\n",
       "      <td>135.00</td>\n",
       "      <td>4.00</td>\n",
       "      <td>190.94</td>\n",
       "      <td>5.00</td>\n",
       "    </tr>\n",
       "    <tr>\n",
       "      <th>50%</th>\n",
       "      <td>562.50</td>\n",
       "      <td>1233.50</td>\n",
       "      <td>216.00</td>\n",
       "      <td>10.00</td>\n",
       "      <td>308.38</td>\n",
       "      <td>10.00</td>\n",
       "    </tr>\n",
       "    <tr>\n",
       "      <th>75%</th>\n",
       "      <td>864.25</td>\n",
       "      <td>1606.25</td>\n",
       "      <td>272.25</td>\n",
       "      <td>14.00</td>\n",
       "      <td>401.56</td>\n",
       "      <td>15.00</td>\n",
       "    </tr>\n",
       "    <tr>\n",
       "      <th>max</th>\n",
       "      <td>1166.00</td>\n",
       "      <td>2309.00</td>\n",
       "      <td>430.00</td>\n",
       "      <td>32.00</td>\n",
       "      <td>577.25</td>\n",
       "      <td>28.00</td>\n",
       "    </tr>\n",
       "  </tbody>\n",
       "</table>\n",
       "</div>"
      ],
      "text/plain": [
       "       page_number  page_char_count  page_word_count  page_sentence_count_raw  \\\n",
       "count      1208.00          1208.00          1208.00                  1208.00   \n",
       "mean        562.50          1149.60           199.89                     9.97   \n",
       "std         348.86           560.47            95.78                     6.19   \n",
       "min         -41.00             0.00             1.00                     1.00   \n",
       "25%         260.75           763.75           135.00                     4.00   \n",
       "50%         562.50          1233.50           216.00                    10.00   \n",
       "75%         864.25          1606.25           272.25                    14.00   \n",
       "max        1166.00          2309.00           430.00                    32.00   \n",
       "\n",
       "       page_token_count  page_sentence_count_nltk  \n",
       "count           1208.00                   1208.00  \n",
       "mean             287.40                     10.28  \n",
       "std              140.12                      6.27  \n",
       "min                0.00                      0.00  \n",
       "25%              190.94                      5.00  \n",
       "50%              308.38                     10.00  \n",
       "75%              401.56                     15.00  \n",
       "max              577.25                     28.00  "
      ]
     },
     "execution_count": 8,
     "metadata": {},
     "output_type": "execute_result"
    }
   ],
   "source": [
    "df = pd.DataFrame(pages_and_texts)\n",
    "df.describe().round(2)"
   ]
  },
  {
   "cell_type": "markdown",
   "id": "f31ffb6d-83d6-409d-b557-8648d253b2bf",
   "metadata": {},
   "source": [
    "## Chunking/Grouping sentences together"
   ]
  },
  {
   "cell_type": "code",
   "execution_count": 9,
   "id": "b3434def-aef7-46ea-b3c0-97b1f4c1250c",
   "metadata": {},
   "outputs": [
    {
     "data": {
      "application/vnd.jupyter.widget-view+json": {
       "model_id": "ed59d675cd75478cb51bcbf856983b3a",
       "version_major": 2,
       "version_minor": 0
      },
      "text/plain": [
       "  0%|          | 0/1208 [00:00<?, ?it/s]"
      ]
     },
     "metadata": {},
     "output_type": "display_data"
    }
   ],
   "source": [
    "# Define split size to turn groups of sentences into chunks\n",
    "num_sentence_chunk_size = 10 \n",
    "\n",
    "# Create a function that recursively splits a list into desired sizes\n",
    "def split_list(input_list: list, \n",
    "               slice_size: int) -> list[list[str]]:\n",
    "    \"\"\"\n",
    "    Splits the input_list into sublists of size slice_size (or as close as possible).\n",
    "\n",
    "    For example, a list of 17 sentences would be split into two lists of [[10], [7]]\n",
    "    \"\"\"\n",
    "    return [input_list[i:i + slice_size] for i in range(0, len(input_list), slice_size)]\n",
    "\n",
    "# Loop through pages and texts and split sentences into chunks\n",
    "for item in tqdm(pages_and_texts):\n",
    "    item[\"sentence_chunks\"] = split_list(input_list=item[\"sentences\"],\n",
    "                                         slice_size=num_sentence_chunk_size)\n",
    "    item[\"num_chunks\"] = len(item[\"sentence_chunks\"])"
   ]
  },
  {
   "cell_type": "code",
   "execution_count": 11,
   "id": "632a42ad",
   "metadata": {},
   "outputs": [
    {
     "data": {
      "application/vnd.jupyter.widget-view+json": {
       "model_id": "571b7e260c514c7cb9cccc63c1d3859b",
       "version_major": 2,
       "version_minor": 0
      },
      "text/plain": [
       "  0%|          | 0/1208 [00:00<?, ?it/s]"
      ]
     },
     "metadata": {},
     "output_type": "display_data"
    },
    {
     "data": {
      "text/plain": [
       "1840"
      ]
     },
     "execution_count": 11,
     "metadata": {},
     "output_type": "execute_result"
    }
   ],
   "source": [
    "# Spliting each chunk into its own items\n",
    "import re\n",
    "\n",
    "# Split each chunk into its own item\n",
    "pages_and_chunks = []\n",
    "for item in tqdm(pages_and_texts):\n",
    "    for sentence_chunk in item[\"sentence_chunks\"]:\n",
    "        chunk_dict = {}\n",
    "        chunk_dict[\"page_number\"] = item[\"page_number\"]\n",
    "        \n",
    "        # Join the sentences together into a paragraph-like structure, aka a chunk (so they are a single string)\n",
    "        joined_sentence_chunk = \"\".join(sentence_chunk).replace(\"  \", \" \").strip()\n",
    "        joined_sentence_chunk = re.sub(r'\\.([A-Z])', r'. \\1', joined_sentence_chunk) # \".A\" -> \". A\" for any full-stop/capital letter combo \n",
    "        chunk_dict[\"sentence_chunk\"] = joined_sentence_chunk\n",
    "\n",
    "        # Get stats about the chunk\n",
    "        chunk_dict[\"chunk_char_count\"] = len(joined_sentence_chunk)\n",
    "        chunk_dict[\"chunk_word_count\"] = len([word for word in joined_sentence_chunk.split(\" \")])\n",
    "        chunk_dict[\"chunk_token_count\"] = len(joined_sentence_chunk) / 4 # 1 token = ~4 characters\n",
    "        \n",
    "        pages_and_chunks.append(chunk_dict)\n",
    "\n",
    "# How many chunks do we have?\n",
    "len(pages_and_chunks)"
   ]
  },
  {
   "cell_type": "code",
   "execution_count": 14,
   "id": "43f215aa",
   "metadata": {},
   "outputs": [
    {
     "data": {
      "text/html": [
       "<div>\n",
       "<style scoped>\n",
       "    .dataframe tbody tr th:only-of-type {\n",
       "        vertical-align: middle;\n",
       "    }\n",
       "\n",
       "    .dataframe tbody tr th {\n",
       "        vertical-align: top;\n",
       "    }\n",
       "\n",
       "    .dataframe thead th {\n",
       "        text-align: right;\n",
       "    }\n",
       "</style>\n",
       "<table border=\"1\" class=\"dataframe\">\n",
       "  <thead>\n",
       "    <tr style=\"text-align: right;\">\n",
       "      <th></th>\n",
       "      <th>page_number</th>\n",
       "      <th>sentence_chunk</th>\n",
       "      <th>chunk_char_count</th>\n",
       "      <th>chunk_word_count</th>\n",
       "      <th>chunk_token_count</th>\n",
       "    </tr>\n",
       "  </thead>\n",
       "  <tbody>\n",
       "    <tr>\n",
       "      <th>0</th>\n",
       "      <td>-41</td>\n",
       "      <td>Human Nutrition: 2020 Edition</td>\n",
       "      <td>29</td>\n",
       "      <td>4</td>\n",
       "      <td>7.25</td>\n",
       "    </tr>\n",
       "    <tr>\n",
       "      <th>1</th>\n",
       "      <td>-39</td>\n",
       "      <td>Human Nutrition: 2020 Edition UNIVERSITY OF HA...</td>\n",
       "      <td>308</td>\n",
       "      <td>42</td>\n",
       "      <td>77.00</td>\n",
       "    </tr>\n",
       "    <tr>\n",
       "      <th>2</th>\n",
       "      <td>-38</td>\n",
       "      <td>Human Nutrition: 2020 Edition by University of...</td>\n",
       "      <td>210</td>\n",
       "      <td>30</td>\n",
       "      <td>52.50</td>\n",
       "    </tr>\n",
       "    <tr>\n",
       "      <th>3</th>\n",
       "      <td>-37</td>\n",
       "      <td>Contents Preface University of Hawai‘i at Māno...</td>\n",
       "      <td>766</td>\n",
       "      <td>115</td>\n",
       "      <td>191.50</td>\n",
       "    </tr>\n",
       "    <tr>\n",
       "      <th>4</th>\n",
       "      <td>-36</td>\n",
       "      <td>Lifestyles and Nutrition University of Hawai‘i...</td>\n",
       "      <td>941</td>\n",
       "      <td>143</td>\n",
       "      <td>235.25</td>\n",
       "    </tr>\n",
       "  </tbody>\n",
       "</table>\n",
       "</div>"
      ],
      "text/plain": [
       "   page_number                                     sentence_chunk  \\\n",
       "0          -41                      Human Nutrition: 2020 Edition   \n",
       "1          -39  Human Nutrition: 2020 Edition UNIVERSITY OF HA...   \n",
       "2          -38  Human Nutrition: 2020 Edition by University of...   \n",
       "3          -37  Contents Preface University of Hawai‘i at Māno...   \n",
       "4          -36  Lifestyles and Nutrition University of Hawai‘i...   \n",
       "\n",
       "   chunk_char_count  chunk_word_count  chunk_token_count  \n",
       "0                29                 4               7.25  \n",
       "1               308                42              77.00  \n",
       "2               210                30              52.50  \n",
       "3               766               115             191.50  \n",
       "4               941               143             235.25  "
      ]
     },
     "execution_count": 14,
     "metadata": {},
     "output_type": "execute_result"
    }
   ],
   "source": [
    "df=pd.DataFrame(pages_and_chunks)\n",
    "df.head()"
   ]
  },
  {
   "cell_type": "code",
   "execution_count": 15,
   "id": "5fa87134",
   "metadata": {},
   "outputs": [],
   "source": [
    "# Remove the chunks that has token number less than 30\n",
    "min_token_length = 30\n",
    "pages_and_chunks_over_min_token_len = df[df[\"chunk_token_count\"] > min_token_length].to_dict(orient=\"records\")"
   ]
  },
  {
   "cell_type": "code",
   "execution_count": 18,
   "id": "67223c63",
   "metadata": {},
   "outputs": [],
   "source": [
    "# save to drive\n",
    "import json\n",
    "file_path=\"data/pages_and_chunks.json\"\n",
    "with open(file_path, 'w') as file:\n",
    "    json.dump(pages_and_chunks_over_min_token_len, file,indent=10)"
   ]
  },
  {
   "cell_type": "code",
   "execution_count": null,
   "id": "f5c1222a",
   "metadata": {},
   "outputs": [],
   "source": []
  }
 ],
 "metadata": {
  "kernelspec": {
   "display_name": "Python 3 (ipykernel)",
   "language": "python",
   "name": "python3"
  },
  "language_info": {
   "codemirror_mode": {
    "name": "ipython",
    "version": 3
   },
   "file_extension": ".py",
   "mimetype": "text/x-python",
   "name": "python",
   "nbconvert_exporter": "python",
   "pygments_lexer": "ipython3",
   "version": "3.12.4"
  }
 },
 "nbformat": 4,
 "nbformat_minor": 5
}
